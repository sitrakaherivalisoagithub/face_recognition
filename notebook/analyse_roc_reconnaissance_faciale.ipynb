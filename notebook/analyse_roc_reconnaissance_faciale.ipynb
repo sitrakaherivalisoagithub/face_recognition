{
 "cells": [
  {
   "cell_type": "markdown",
   "metadata": {},
   "source": [
    "# 📊 Analyse ROC - Système de reconnaissance faciale\n",
    "\n",
    "Ce notebook permet de :\n",
    "- Générer les embeddings faciaux à partir d'images de test avec InsightFace (ArcFace)\n",
    "- Visualiser la distribution des similarités (positives vs négatives)\n",
    "- Tracer la courbe ROC et suggérer un seuil optimal\n",
    "\n",
    "**Structure attendue des fichiers :**\n",
    "```\n",
    "static/test/\n",
    "├── emp1/\n",
    "│   ├── ref.jpg\n",
    "│   ├── test1.jpg\n",
    "├── emp2/\n",
    "│   ├── ref.jpg\n",
    "│   ├── test1.jpg\n",
    "```\n"
   ]
  },
  {
   "cell_type": "code",
   "execution_count": 1,
   "metadata": {},
   "outputs": [
    {
     "name": "stderr",
     "output_type": "stream",
     "text": [
      "C:\\Users\\s.herivalisoa\\PycharmProjects\\FaceAttendanceProject\\venv\\lib\\site-packages\\onnxruntime\\capi\\onnxruntime_inference_collection.py:121: UserWarning: Specified provider 'CUDAExecutionProvider' is not in available provider names.Available providers: 'AzureExecutionProvider, CPUExecutionProvider'\n",
      "  warnings.warn(\n"
     ]
    },
    {
     "name": "stdout",
     "output_type": "stream",
     "text": [
      "Applied providers: ['CPUExecutionProvider'], with options: {'CPUExecutionProvider': {}}\n",
      "find model: C:\\Users\\s.herivalisoa/.insightface\\models\\buffalo_l\\1k3d68.onnx landmark_3d_68 ['None', 3, 192, 192] 0.0 1.0\n",
      "Applied providers: ['CPUExecutionProvider'], with options: {'CPUExecutionProvider': {}}\n",
      "find model: C:\\Users\\s.herivalisoa/.insightface\\models\\buffalo_l\\2d106det.onnx landmark_2d_106 ['None', 3, 192, 192] 0.0 1.0\n",
      "Applied providers: ['CPUExecutionProvider'], with options: {'CPUExecutionProvider': {}}\n",
      "find model: C:\\Users\\s.herivalisoa/.insightface\\models\\buffalo_l\\det_10g.onnx detection [1, 3, '?', '?'] 127.5 128.0\n",
      "Applied providers: ['CPUExecutionProvider'], with options: {'CPUExecutionProvider': {}}\n",
      "find model: C:\\Users\\s.herivalisoa/.insightface\\models\\buffalo_l\\genderage.onnx genderage ['None', 3, 96, 96] 0.0 1.0\n",
      "Applied providers: ['CPUExecutionProvider'], with options: {'CPUExecutionProvider': {}}\n",
      "find model: C:\\Users\\s.herivalisoa/.insightface\\models\\buffalo_l\\w600k_r50.onnx recognition ['None', 3, 112, 112] 127.5 127.5\n",
      "set det-size: (640, 640)\n"
     ]
    }
   ],
   "source": [
    "import os\n",
    "import cv2\n",
    "import numpy as np\n",
    "import matplotlib.pyplot as plt\n",
    "from sklearn.metrics import roc_curve, auc\n",
    "import insightface\n",
    "\n",
    "# Initialiser InsightFace\n",
    "model = insightface.app.FaceAnalysis(name='buffalo_l')\n",
    "model.prepare(ctx_id=0, det_size=(640, 640))"
   ]
  },
  {
   "cell_type": "code",
   "execution_count": 22,
   "metadata": {},
   "outputs": [],
   "source": [
    "# Fonction pour générer l'embedding à partir d'une image\n",
    "def get_embedding(path):\n",
    "    img = cv2.imread(path)\n",
    "    img = cv2.cvtColor(img, cv2.COLOR_BGR2RGB)\n",
    "    faces = model.get(img)\n",
    "    if len(faces) == 0:\n",
    "        return None\n",
    "    return faces[0].embedding"
   ]
  },
  {
   "cell_type": "code",
   "execution_count": 31,
   "metadata": {},
   "outputs": [
    {
     "name": "stdout",
     "output_type": "stream",
     "text": [
      "../static/test_images\\Akshay Kumar\\Akshay Kumar_0.jpg\n",
      "../static/test_images\\Akshay Kumar\\Akshay Kumar_17.jpg\n",
      "../static/test_images\\Alexandra Daddario\\Alexandra Daddario_0.jpg\n",
      "../static/test_images\\Alexandra Daddario\\Alexandra Daddario_17.jpg\n",
      "../static/test_images\\Alia Bhatt\\Alia Bhatt_0.jpg\n",
      "../static/test_images\\Alia Bhatt\\Alia Bhatt_17.jpg\n",
      "../static/test_images\\Amitabh Bachchan\\Amitabh Bachchan_0.jpg\n",
      "../static/test_images\\Amitabh Bachchan\\Amitabh Bachchan_17.jpg\n",
      "../static/test_images\\Andrianina\\a.jpg\n",
      "../static/test_images\\Andy Samberg\\Andy Samberg_0.jpg\n",
      "../static/test_images\\Andy Samberg\\Andy Samberg_17.jpg\n",
      "../static/test_images\\Anushka Sharma\\Anushka Sharma_0.jpg\n",
      "../static/test_images\\Anushka Sharma\\Anushka Sharma_17.jpg\n",
      "../static/test_images\\Baholy\\test (1).jpg\n",
      "../static/test_images\\Billie Eilish\\Billie Eilish_0.jpg\n",
      "../static/test_images\\Billie Eilish\\Billie Eilish_17.jpg\n",
      "../static/test_images\\Brad Pitt\\Brad Pitt_0.jpg\n",
      "../static/test_images\\Brad Pitt\\Brad Pitt_106.jpg\n",
      "../static/test_images\\Camila Cabello\\Camila Cabello_0.jpg\n",
      "../static/test_images\\Camila Cabello\\Camila Cabello_17.jpg\n",
      "../static/test_images\\Charlize Theron\\Charlize Theron_0.jpg\n",
      "../static/test_images\\Charlize Theron\\Charlize Theron_17.jpg\n",
      "../static/test_images\\Claire Holt\\Claire Holt_0.jpg\n",
      "../static/test_images\\Claire Holt\\Claire Holt_17.jpg\n",
      "../static/test_images\\Courtney Cox\\Courtney Cox_0.jpg\n",
      "../static/test_images\\Courtney Cox\\Courtney Cox_17.jpg\n",
      "../static/test_images\\Dwayne Johnson\\Dwayne Johnson_0.jpg\n",
      "../static/test_images\\Dwayne Johnson\\Dwayne Johnson_17.jpg\n",
      "../static/test_images\\Elizabeth Olsen\\Elizabeth Olsen_0.jpg\n",
      "../static/test_images\\Elizabeth Olsen\\Elizabeth Olsen_17.jpg\n",
      "../static/test_images\\Ellen Degeneres\\Ellen Degeneres_0.jpg\n",
      "../static/test_images\\Ellen Degeneres\\Ellen Degeneres_17.jpg\n",
      "../static/test_images\\Henry Cavill\\Henry Cavill_0.jpg\n",
      "../static/test_images\\Henry Cavill\\Henry Cavill_11.jpg\n",
      "../static/test_images\\Hrithik Roshan\\Hrithik Roshan_0.jpg\n",
      "../static/test_images\\Hrithik Roshan\\Hrithik Roshan_16.jpg\n",
      "../static/test_images\\Hugh Jackman\\Hugh Jackman_0.jpg\n",
      "../static/test_images\\Hugh Jackman\\Hugh Jackman_106.jpg\n",
      "../static/test_images\\Jessica Alba\\Jessica Alba_0.jpg\n",
      "../static/test_images\\Jessica Alba\\Jessica Alba_106.jpg\n",
      "../static/test_images\\Kashyap\\Kashyap_0.jpg\n",
      "../static/test_images\\Kashyap\\Kashyap_17.jpg\n",
      "../static/test_images\\Lisa Kudrow\\Lisa Kudrow_0.jpg\n",
      "../static/test_images\\Lisa Kudrow\\Lisa Kudrow_17.jpg\n",
      "../static/test_images\\Margot Robbie\\Margot Robbie_0.jpg\n",
      "../static/test_images\\Margot Robbie\\Margot Robbie_17.jpg\n",
      "../static/test_images\\Marmik\\Marmik_0.jpg\n",
      "../static/test_images\\Marmik\\Marmik_17.jpg\n",
      "../static/test_images\\Mia\\mia.jpg\n",
      "../static/test_images\\Mihanta\\t (1).jpg\n",
      "../static/test_images\\Mior\\m.jpg\n",
      "../static/test_images\\Natalie Portman\\Natalie Portman_0.jpg\n",
      "../static/test_images\\Natalie Portman\\Natalie Portman_12.jpg\n",
      "../static/test_images\\Ony\\ony.jpg\n",
      "../static/test_images\\Priyanka Chopra\\Priyanka Chopra_0.jpg\n",
      "../static/test_images\\Priyanka Chopra\\Priyanka Chopra_15.jpg\n",
      "../static/test_images\\Robert Downey Jr\\Robert Downey Jr_0.jpg\n",
      "../static/test_images\\Robert Downey Jr\\Robert Downey Jr_106.jpg\n",
      "../static/test_images\\Roger Federer\\Roger Federer_0.jpg\n",
      "../static/test_images\\Roger Federer\\Roger Federer_17.jpg\n",
      "../static/test_images\\sidonie\\t.jpg\n",
      "../static/test_images\\Sitraka\\WIN_20240811_10_25_35_Pro.jpg\n",
      "../static/test_images\\Tom Cruise\\Tom Cruise_0.jpg\n",
      "../static/test_images\\Tom Cruise\\Tom Cruise_17.jpg\n",
      "../static/test_images\\Vijay Deverakonda\\Vijay Deverakonda_0.jpg\n",
      "../static/test_images\\Vijay Deverakonda\\Vijay Deverakonda_106.jpg\n",
      "../static/test_images\\Virat Kohli\\Virat Kohli_0.jpg\n",
      "../static/test_images\\Virat Kohli\\Virat Kohli_17.jpg\n",
      "../static/test_images\\Zac Efron\\Zac Efron_0.jpg\n",
      "../static/test_images\\Zac Efron\\Zac Efron_17.jpg\n"
     ]
    }
   ],
   "source": [
    "# Charger toutes les images test\n",
    "base_dir = \"../static/test_images\"\n",
    "embeddings = {}\n",
    "\n",
    "for person in os.listdir(base_dir):\n",
    "    person_dir = os.path.join(base_dir, person)\n",
    "    if not os.path.isdir(person_dir): continue\n",
    "    \n",
    "    emb_list = []\n",
    "    for i, fname in enumerate(os.listdir(person_dir)):\n",
    "        img_path = os.path.join(person_dir, fname)\n",
    "        \n",
    "        if i < 10:\n",
    "            if i%9 == 0:\n",
    "                print(img_path)\n",
    "            emb = get_embedding(img_path)\n",
    "            if emb is not None:\n",
    "                emb_list.append((fname, emb))\n",
    "    embeddings[person] = emb_list"
   ]
  },
  {
   "cell_type": "code",
   "execution_count": 32,
   "metadata": {},
   "outputs": [
    {
     "data": {
      "text/plain": [
       "(512,)"
      ]
     },
     "execution_count": 32,
     "metadata": {},
     "output_type": "execute_result"
    }
   ],
   "source": [
    "embeddings[\"Akshay Kumar\"][0][1].shape"
   ]
  },
  {
   "cell_type": "code",
   "execution_count": 33,
   "metadata": {},
   "outputs": [],
   "source": [
    "# Générer les paires positives et négatives\n",
    "positives = []\n",
    "negatives = []\n",
    "\n",
    "people = list(embeddings.keys())\n",
    "for i, person in enumerate(people):\n",
    "    samples = embeddings[person]\n",
    "    for j in range(1, len(samples)):\n",
    "        sim = np.dot(samples[0][1], samples[j][1]) / (np.linalg.norm(samples[0][1]) * np.linalg.norm(samples[j][1]))\n",
    "        positives.append(sim)\n",
    "\n",
    "    for other in people[i+1:]:\n",
    "        other_samples = embeddings[other]\n",
    "        for sample in other_samples[1:]:\n",
    "            sim = np.dot(samples[0][1], sample[1]) / (np.linalg.norm(samples[0][1]) * np.linalg.norm(sample[1]))\n",
    "            negatives.append(sim)"
   ]
  },
  {
   "cell_type": "code",
   "execution_count": 34,
   "metadata": {},
   "outputs": [
    {
     "data": {
      "text/plain": [
       "285"
      ]
     },
     "execution_count": 34,
     "metadata": {},
     "output_type": "execute_result"
    }
   ],
   "source": [
    "len(positives)"
   ]
  },
  {
   "cell_type": "code",
   "execution_count": 35,
   "metadata": {},
   "outputs": [
    {
     "data": {
      "text/plain": [
       "5136"
      ]
     },
     "execution_count": 35,
     "metadata": {},
     "output_type": "execute_result"
    }
   ],
   "source": [
    "len(negatives)"
   ]
  },
  {
   "cell_type": "code",
   "execution_count": 38,
   "metadata": {},
   "outputs": [],
   "source": [
    "negatives = negatives[:285]"
   ]
  },
  {
   "cell_type": "code",
   "execution_count": 45,
   "metadata": {},
   "outputs": [
    {
     "data": {
      "image/png": "[encoded data removed]",
      "text/plain": [
       "<Figure size 1000x500 with 1 Axes>"
      ]
     },
     "metadata": {},
     "output_type": "display_data"
    }
   ],
   "source": [
    "# Affichage de la distribution\n",
    "plt.figure(figsize=(10,5))\n",
    "plt.hist(positives, bins=30, alpha=0.6, label=\"Positives (même personne)\", color=\"green\", density=True)\n",
    "plt.hist(negatives, bins=30, alpha=0.6, label=\"Négatives (différentes)\", color=\"red\", density=True)\n",
    "plt.axvline(x=0.5, linestyle='--', color='black', label=\"Seuil 0.5\")\n",
    "plt.title(\"Distribution des similarités cosinus\")\n",
    "plt.xlabel(\"Similarité\")\n",
    "plt.ylabel(\"Densité\")\n",
    "plt.legend()\n",
    "plt.grid(True)\n",
    "plt.savefig('ROC.png')\n",
    "plt.show()"
   ]
  },
  {
   "cell_type": "code",
   "execution_count": 40,
   "metadata": {},
   "outputs": [
    {
     "data": {
      "image/png": "[encoded data removed]",
      "text/plain": [
       "<Figure size 600x600 with 1 Axes>"
      ]
     },
     "metadata": {},
     "output_type": "display_data"
    }
   ],
   "source": [
    "# Courbe ROC\n",
    "y_true = [1]*len(positives) + [0]*len(negatives)\n",
    "y_score = positives + negatives\n",
    "\n",
    "fpr, tpr, thresholds = roc_curve(y_true, y_score)\n",
    "roc_auc = auc(fpr, tpr)\n",
    "\n",
    "plt.figure(figsize=(6,6))\n",
    "plt.plot(fpr, tpr, color=\"blue\", label=f\"ROC curve (AUC = {roc_auc:.2f})\")\n",
    "plt.plot([0,1], [0,1], linestyle=\"--\", color=\"gray\")\n",
    "plt.xlabel(\"Faux positifs (FPR)\")\n",
    "plt.ylabel(\"Vrais positifs (TPR)\")\n",
    "plt.title(\"Courbe ROC - Seuil de reconnaissance faciale\")\n",
    "plt.legend()\n",
    "plt.grid(True)\n",
    "plt.show()"
   ]
  },
  {
   "cell_type": "code",
   "execution_count": 41,
   "metadata": {},
   "outputs": [
    {
     "name": "stdout",
     "output_type": "stream",
     "text": [
      "🎯 Seuil optimal suggéré : 0.28\n"
     ]
    }
   ],
   "source": [
    "# Seuil optimal\n",
    "optimal_idx = np.argmax(tpr - fpr)\n",
    "optimal_threshold = thresholds[optimal_idx]\n",
    "print(f\"🎯 Seuil optimal suggéré : {optimal_threshold:.2f}\")"
   ]
  },
  {
   "cell_type": "code",
   "execution_count": 42,
   "metadata": {},
   "outputs": [
    {
     "data": {
      "text/plain": [
       "array([        inf,  0.8562696 ,  0.28015116,  0.0679414 ,  0.06686429,\n",
       "       -0.1600403 ], dtype=float32)"
      ]
     },
     "execution_count": 42,
     "metadata": {},
     "output_type": "execute_result"
    }
   ],
   "source": [
    "thresholds"
   ]
  },
  {
   "cell_type": "code",
   "execution_count": 43,
   "metadata": {},
   "outputs": [
    {
     "data": {
      "text/plain": [
       "array([0.        , 0.00350877, 0.99649123, 0.99649123, 1.        ,\n",
       "       1.        ])"
      ]
     },
     "execution_count": 43,
     "metadata": {},
     "output_type": "execute_result"
    }
   ],
   "source": [
    "tpr"
   ]
  },
  {
   "cell_type": "code",
   "execution_count": 10,
   "metadata": {},
   "outputs": [
    {
     "data": {
      "text/plain": [
       "array([0., 0., 0., 1.])"
      ]
     },
     "execution_count": 10,
     "metadata": {},
     "output_type": "execute_result"
    }
   ],
   "source": [
    "fpr"
   ]
  },
  {
   "cell_type": "code",
   "execution_count": null,
   "metadata": {},
   "outputs": [],
   "source": []
  }
 ],
 "metadata": {
  "kernelspec": {
   "display_name": "Python 3 (ipykernel)",
   "language": "python",
   "name": "python3"
  },
  "language_info": {
   "codemirror_mode": {
    "name": "ipython",
    "version": 3
   },
   "file_extension": ".py",
   "mimetype": "text/x-python",
   "name": "python",
   "nbconvert_exporter": "python",
   "pygments_lexer": "ipython3",
   "version": "3.10.0"
  }
 },
 "nbformat": 4,
 "nbformat_minor": 4
}
